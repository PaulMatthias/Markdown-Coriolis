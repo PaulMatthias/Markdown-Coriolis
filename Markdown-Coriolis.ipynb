{
 "cells": [
  {
   "cell_type": "code",
   "execution_count": 13,
   "metadata": {},
   "outputs": [],
   "source": [
    "def praeambel():\n",
    "    pra_text=\"\"\"<style type=\\\"text/css\\\">\n",
    "    div.bg{\n",
    "        background-color:blue;\n",
    "        background-image: url(../../Documents/Monster-of-the-Week/Hooked-Horror.jpg);\n",
    "        width:21cm;height:29.7cm;\n",
    "        border:1px solid blue;\n",
    "        padding:20px;\n",
    "    }\n",
    "    body{\n",
    "        height: 29.7cm;\n",
    "        width=21cm;\n",
    "        margin-left=auto;\n",
    "        margin-right=auto;\n",
    "    \n",
    "    }\n",
    "    </style>\n",
    "    <body>\n",
    "    <div class=bg>\n",
    "    \n",
    "    \"\"\"\n",
    "    return pra_text\n",
    "\n",
    "def closing():\n",
    "    close_text=\"\"\"</div></body>\"\"\"\n",
    "    return close_text"
   ]
  },
  {
   "cell_type": "code",
   "execution_count": 98,
   "metadata": {},
   "outputs": [],
   "source": [
    "def convert_to_hash(line):\n",
    "    count=0\n",
    "    for char in line:    \n",
    "        if(char!=\"#\"):\n",
    "            break\n",
    "        if(char==\"#\"):\n",
    "            count+=1\n",
    "    if(count>0):\n",
    "        new_line=\"<h\"+str(count)+\">\"+line[count+1:].strip()+\"</h\"+str(count)+\">\"   \n",
    "    return new_line \n",
    "\n",
    "def convert_to_bullet(line):\n",
    "    new_line=\"<ul><li>\"+line[1:].strip()+\"</li></ul>\"\n",
    "    return new_line\n",
    "            \n",
    "def insert_italic(line):\n",
    "    italic_ind=line.find(\"_\")\n",
    "    is_there=True\n",
    "    if(italic_ind!=None):\n",
    "        next_italic=line.find(\"_\", italic_ind+1)\n",
    "        if(next_italic!=-1):\n",
    "            line=line[:italic_ind-1]+\" <em>\"+line[italic_ind+1:next_italic]+\"</em> \"+line[next_italic+2:]\n",
    "        else:\n",
    "            is_there=False\n",
    "    else:\n",
    "        is_there=False\n",
    "    return line, is_there\n",
    "\n",
    "def insert_bold(line):\n",
    "    bold_ind=line.find(\"**\")\n",
    "    is_there=True\n",
    "    if(bold_ind!=None):\n",
    "        next_bold=line.find(\"**\", bold_ind+1)\n",
    "        if(next_bold!=-1):\n",
    "            line=line[:bold_ind-1]+\" <strong>\"+line[bold_ind+2:next_bold]+\"</strong> \"+line[next_bold+2:]\n",
    "        else:\n",
    "            is_there=False\n",
    "    else:\n",
    "        is_there=False\n",
    "    return line, is_there\n",
    "    \n",
    "def look_for_special_char(line):\n",
    "    is_there = False\n",
    "    if(\"_\" in line):\n",
    "        line, is_there=insert_italic(line)\n",
    "    elif(\"**\" in line):\n",
    "        line, is_there=insert_bold(line)\n",
    "    return line, is_there\n",
    "    \n",
    "    \n",
    "def markdown(string):\n",
    "    #erkennen welche form\n",
    "    lines=string.splitlines()\n",
    "    new_text=\"\"\n",
    "    for line in lines:\n",
    "        if(len(line)==0):\n",
    "            new_line=\"\\n\"\n",
    "        elif(line[0]==\"#\"):\n",
    "            new_line=convert_to_hash(line)\n",
    "        elif(line[0]==\"*\"):\n",
    "            new_line=convert_to_bullet(line)\n",
    "        else:\n",
    "            is_there=True\n",
    "            count=0\n",
    "            while(is_there):\n",
    "                line, is_there=look_for_special_char(line)\n",
    "                print(line)\n",
    "                count+=1\n",
    "                if(count>10):\n",
    "                    break\n",
    "            new_line=line\n",
    "        #new_text.append(new_line)\n",
    "        new_text=new_text+\" \\n \"+new_line\n",
    "    return new_text"
   ]
  },
  {
   "cell_type": "code",
   "execution_count": 102,
   "metadata": {},
   "outputs": [
    {
     "name": "stdout",
     "output_type": "stream",
     "text": [
      "# sub heading\n",
      "## sub sub heading #\n",
      "### blub\n",
      "asdsad sd _asasd_ sakdhsa _asd_\n",
      "her eise some **bold** text\n",
      "\n",
      "* item1\n",
      "* item2 *\n",
      "* item3\n",
      "asdsad sd <em>asasd</em> sakdhsa _asd_\n",
      "asdsad sd <em>asasd</em> sakdhsa <em>asd</em> \n",
      "asdsad sd <em>asasd</em> sakdhsa <em>asd</em> \n",
      "her eise some <strong>bold</strong>  text\n",
      "her eise some <strong>bold</strong>  text\n",
      "['<style type=\"text/css\">\\n    div.bg{\\n        background-color:blue;\\n        background-image: url(../../Documents/Monster-of-the-Week/Hooked-Horror.jpg);\\n        width:21cm;height:29.7cm;\\n        border:1px solid blue;\\n        padding:20px;\\n    }\\n    body{\\n        height: 29.7cm;\\n        width=21cm;\\n        margin-left=auto;\\n        margin-right=auto;\\n    \\n    }\\n    </style>\\n    <body>\\n    <div class=bg>\\n    \\n    ', ' \\n <h1>sub heading</h1> \\n <h2>sub sub heading #</h2> \\n <h3>blub</h3> \\n asdsad sd <em>asasd</em> sakdhsa <em>asd</em>  \\n her eise some <strong>bold</strong>  text \\n \\n \\n <ul><li>item1</li></ul> \\n <ul><li>item2 *</li></ul> \\n <ul><li>item3</li></ul>', '</div></body>']\n"
     ]
    }
   ],
   "source": [
    "test=\"\"\"# sub heading\n",
    "## sub sub heading #\n",
    "### blub\n",
    "asdsad sd _asasd_ sakdhsa _asd_\n",
    "her eise some **bold** text\n",
    "\n",
    "* item1\n",
    "* item2 *\n",
    "* item3\"\"\"\n",
    "print(test)\n",
    "new=[]\n",
    "new.append(praeambel())\n",
    "new.append(markdown(test))\n",
    "new.append(closing())\n",
    "print(new)"
   ]
  },
  {
   "cell_type": "code",
   "execution_count": 104,
   "metadata": {},
   "outputs": [],
   "source": [
    "f=open(\"blubs.html\",\"w+\")\n",
    "for entry in new:\n",
    "    f.write(entry)\n",
    "\n",
    "    "
   ]
  },
  {
   "cell_type": "code",
   "execution_count": null,
   "metadata": {},
   "outputs": [],
   "source": []
  },
  {
   "cell_type": "code",
   "execution_count": null,
   "metadata": {},
   "outputs": [],
   "source": []
  },
  {
   "cell_type": "code",
   "execution_count": null,
   "metadata": {},
   "outputs": [],
   "source": []
  },
  {
   "cell_type": "code",
   "execution_count": null,
   "metadata": {},
   "outputs": [],
   "source": []
  },
  {
   "cell_type": "code",
   "execution_count": null,
   "metadata": {},
   "outputs": [],
   "source": []
  },
  {
   "cell_type": "code",
   "execution_count": null,
   "metadata": {},
   "outputs": [],
   "source": []
  },
  {
   "cell_type": "code",
   "execution_count": null,
   "metadata": {},
   "outputs": [],
   "source": []
  },
  {
   "cell_type": "code",
   "execution_count": null,
   "metadata": {},
   "outputs": [],
   "source": []
  },
  {
   "cell_type": "code",
   "execution_count": null,
   "metadata": {},
   "outputs": [],
   "source": []
  },
  {
   "cell_type": "code",
   "execution_count": null,
   "metadata": {},
   "outputs": [],
   "source": []
  }
 ],
 "metadata": {
  "kernelspec": {
   "display_name": "Python 3",
   "language": "python",
   "name": "python3"
  },
  "language_info": {
   "codemirror_mode": {
    "name": "ipython",
    "version": 3
   },
   "file_extension": ".py",
   "mimetype": "text/x-python",
   "name": "python",
   "nbconvert_exporter": "python",
   "pygments_lexer": "ipython3",
   "version": "3.6.5"
  }
 },
 "nbformat": 4,
 "nbformat_minor": 2
}
